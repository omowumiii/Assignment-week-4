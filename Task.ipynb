{
 "cells": [
  {
   "cell_type": "markdown",
   "id": "e4628134-7bc9-460b-a931-d65359b17939",
   "metadata": {},
   "source": [
    "# creat 4 variables\n"
   ]
  },
  {
   "cell_type": "code",
   "execution_count": 11,
   "id": "fc4062da-0b95-4679-a939-4e7a82cd913b",
   "metadata": {},
   "outputs": [],
   "source": [
    "Myiterms='scarfs'"
   ]
  },
  {
   "cell_type": "code",
   "execution_count": 13,
   "id": "2fd23375",
   "metadata": {},
   "outputs": [
    {
     "name": "stdout",
     "output_type": "stream",
     "text": [
      "c\n"
     ]
    }
   ],
   "source": [
    "\n",
    "print(Myiterms[1])"
   ]
  },
  {
   "cell_type": "code",
   "execution_count": 20,
   "id": "a651a69b",
   "metadata": {},
   "outputs": [],
   "source": [
    "numbers=8"
   ]
  },
  {
   "cell_type": "code",
   "execution_count": 21,
   "id": "be27bd85",
   "metadata": {},
   "outputs": [
    {
     "name": "stdout",
     "output_type": "stream",
     "text": [
      "8\n"
     ]
    }
   ],
   "source": [
    "print(numbers)"
   ]
  },
  {
   "cell_type": "code",
   "execution_count": 2,
   "id": "dc076e34",
   "metadata": {},
   "outputs": [
    {
     "name": "stdout",
     "output_type": "stream",
     "text": [
      "2.0\n"
     ]
    }
   ],
   "source": [
    "floats=2.0\n",
    "print(floats)"
   ]
  },
  {
   "cell_type": "code",
   "execution_count": 4,
   "id": "8a35fbc7",
   "metadata": {},
   "outputs": [
    {
     "name": "stdout",
     "output_type": "stream",
     "text": [
      "True\n"
     ]
    }
   ],
   "source": [
    "bools=True\n",
    "print(bools)"
   ]
  },
  {
   "cell_type": "code",
   "execution_count": 24,
   "id": "7c0a7d61",
   "metadata": {},
   "outputs": [],
   "source": [
    "cloths=[]"
   ]
  },
  {
   "cell_type": "code",
   "execution_count": 27,
   "id": "ecdc8821",
   "metadata": {},
   "outputs": [],
   "source": [
    "cloths.append(Myiterms)"
   ]
  },
  {
   "cell_type": "code",
   "execution_count": 28,
   "id": "862a8a03",
   "metadata": {},
   "outputs": [
    {
     "name": "stdout",
     "output_type": "stream",
     "text": [
      "['scarfs']\n"
     ]
    }
   ],
   "source": [
    "print(cloths)"
   ]
  },
  {
   "cell_type": "code",
   "execution_count": 32,
   "id": "1293b825",
   "metadata": {},
   "outputs": [],
   "source": [
    "Addings=numbers+floats"
   ]
  },
  {
   "cell_type": "code",
   "execution_count": 33,
   "id": "beb34fc6",
   "metadata": {},
   "outputs": [
    {
     "name": "stdout",
     "output_type": "stream",
     "text": [
      "10.0\n"
     ]
    }
   ],
   "source": [
    "print(Addings)"
   ]
  },
  {
   "cell_type": "code",
   "execution_count": 41,
   "id": "8296dd28",
   "metadata": {},
   "outputs": [],
   "source": [
    "cloths.append(Addings)"
   ]
  },
  {
   "cell_type": "code",
   "execution_count": 49,
   "id": "f6c33976",
   "metadata": {},
   "outputs": [],
   "source": [
    "phone=True\n"
   ]
  },
  {
   "cell_type": "code",
   "execution_count": 50,
   "id": "c0cc8f18",
   "metadata": {},
   "outputs": [],
   "source": [
    "cloths.append(phone)"
   ]
  },
  {
   "cell_type": "code",
   "execution_count": 52,
   "id": "7dc17ef3",
   "metadata": {},
   "outputs": [
    {
     "name": "stdout",
     "output_type": "stream",
     "text": [
      "['scarfs', 10.0, True]\n"
     ]
    }
   ],
   "source": [
    "print(cloths)"
   ]
  },
  {
   "cell_type": "code",
   "execution_count": 117,
   "id": "d6536280",
   "metadata": {},
   "outputs": [],
   "source": [
    "West=[\"osun\",\"ekit\",\"ogun\",\"ondo\",\"sokoto\"]\n",
    "north=[\"kano\",\"yola\",\"madiguru\",\"kwara\"]\n",
    "east=[\"abia\",\"delat\",\"river\",\"Enugun\"]"
   ]
  },
  {
   "cell_type": "code",
   "execution_count": 118,
   "id": "f6bc2181",
   "metadata": {},
   "outputs": [],
   "source": [
    "West[4]=\"lagos\""
   ]
  },
  {
   "cell_type": "code",
   "execution_count": 119,
   "id": "61a92a81",
   "metadata": {},
   "outputs": [
    {
     "name": "stdout",
     "output_type": "stream",
     "text": [
      "['osun', 'ekit', 'ogun', 'ondo', 'lagos']\n"
     ]
    }
   ],
   "source": [
    "print (West)"
   ]
  },
  {
   "cell_type": "code",
   "execution_count": null,
   "id": "ef768c2b",
   "metadata": {},
   "outputs": [],
   "source": [
    "tuple(West)"
   ]
  },
  {
   "cell_type": "code",
   "execution_count": 66,
   "id": "4d37dc85",
   "metadata": {},
   "outputs": [
    {
     "data": {
      "text/plain": [
       "('kano', 'yola', 'madiguru', 'kwara')"
      ]
     },
     "execution_count": 66,
     "metadata": {},
     "output_type": "execute_result"
    }
   ],
   "source": [
    "tuple(north)"
   ]
  },
  {
   "cell_type": "code",
   "execution_count": 67,
   "id": "00db1b11",
   "metadata": {},
   "outputs": [
    {
     "data": {
      "text/plain": [
       "('abia', 'delat', 'river', 'Enugun')"
      ]
     },
     "execution_count": 67,
     "metadata": {},
     "output_type": "execute_result"
    }
   ],
   "source": [
    "tuple(east)"
   ]
  },
  {
   "cell_type": "code",
   "execution_count": 120,
   "id": "2b6490a5",
   "metadata": {},
   "outputs": [],
   "source": [
    "Nigeria={}"
   ]
  },
  {
   "cell_type": "code",
   "execution_count": 121,
   "id": "7ac0c72b",
   "metadata": {},
   "outputs": [
    {
     "name": "stdout",
     "output_type": "stream",
     "text": [
      "{}\n"
     ]
    }
   ],
   "source": [
    "print(Nigeria)"
   ]
  },
  {
   "cell_type": "code",
   "execution_count": 122,
   "id": "fc10e83a",
   "metadata": {},
   "outputs": [],
   "source": [
    "Nigeria['West']=West\n",
    "Nigeria['north']=north\n",
    "Nigeria['east']=east"
   ]
  },
  {
   "cell_type": "code",
   "execution_count": 123,
   "id": "509f6720",
   "metadata": {},
   "outputs": [
    {
     "name": "stdout",
     "output_type": "stream",
     "text": [
      "{'West': ['osun', 'ekit', 'ogun', 'ondo', 'lagos'], 'north': ['kano', 'yola', 'madiguru', 'kwara'], 'east': ['abia', 'delat', 'river', 'Enugun']}\n"
     ]
    }
   ],
   "source": [
    "print(Nigeria)"
   ]
  }
 ],
 "metadata": {
  "kernelspec": {
   "display_name": "Python 3 (ipykernel)",
   "language": "python",
   "name": "python3"
  },
  "language_info": {
   "codemirror_mode": {
    "name": "ipython",
    "version": 3
   },
   "file_extension": ".py",
   "mimetype": "text/x-python",
   "name": "python",
   "nbconvert_exporter": "python",
   "pygments_lexer": "ipython3",
   "version": "3.11.7"
  }
 },
 "nbformat": 4,
 "nbformat_minor": 5
}
